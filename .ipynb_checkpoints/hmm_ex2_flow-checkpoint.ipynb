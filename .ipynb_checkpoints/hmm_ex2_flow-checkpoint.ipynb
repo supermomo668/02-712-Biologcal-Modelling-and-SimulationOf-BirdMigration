{
 "cells": [
  {
   "cell_type": "code",
   "execution_count": 1,
   "metadata": {},
   "outputs": [],
   "source": [
    "from hmmlearn.hmm import GaussianHMM\n",
    "from matplotlib import pyplot as plt\n",
    "import seaborn as sns\n",
    "import numpy as np"
   ]
  },
  {
   "cell_type": "code",
   "execution_count": 4,
   "metadata": {},
   "outputs": [],
   "source": [
    "def fitHMM(Q, nSamples):\n",
    "    # fit Gaussian HMM to Q\n",
    "    model = GaussianHMM(n_components=2, n_iter=1000).fit(np.reshape(Q,[len(Q),1]))\n",
    "     \n",
    "    # classify each observation as state 0 or 1\n",
    "    hidden_states = model.predict(np.reshape(Q,[len(Q),1]))\n",
    " \n",
    "    # find parameters of Gaussian HMM\n",
    "    mus = np.array(model.means_)\n",
    "    sigmas = np.array(np.sqrt(np.array([np.diag(model.covars_[0]),np.diag(model.covars_[1])])))\n",
    "    P = np.array(model.transmat_)\n",
    " \n",
    "    # find log-likelihood of Gaussian HMM\n",
    "    logProb = model.score(np.reshape(Q,[len(Q),1]))\n",
    " \n",
    "    # generate nSamples from Gaussian HMM\n",
    "    samples = model.sample(nSamples)\n",
    " \n",
    "    # re-organize mus, sigmas and P so that first row is lower mean (if not already)\n",
    "    if mus[0] > mus[1]:\n",
    "        mus = np.flipud(mus)\n",
    "        sigmas = np.flipud(sigmas)\n",
    "        P = np.fliplr(np.flipud(P))\n",
    "        hidden_states = 1 - hidden_states\n",
    " \n",
    "    return hidden_states, mus, sigmas, P, logProb, samples"
   ]
  },
  {
   "cell_type": "code",
   "execution_count": null,
   "metadata": {},
   "outputs": [],
   "source": [
    "# load annual flow data for the Colorado River near the Colorado/Utah state line\n",
    "AnnualQ = np.loadtxt('AnnualQ.txt')\n",
    " \n",
    "# log transform the data and fit the HMM\n",
    "logQ = np.log(AnnualQ)\n",
    "hidden_states, mus, sigmas, P, logProb, samples = fitHMM(logQ, 100)"
   ]
  },
  {
   "cell_type": "code",
   "execution_count": 5,
   "metadata": {},
   "outputs": [
    {
     "ename": "NameError",
     "evalue": "name 'logQ' is not defined",
     "output_type": "error",
     "traceback": [
      "\u001b[1;31m------------------------------------------------------------------------\u001b[0m",
      "\u001b[1;31mNameError\u001b[0m                              Traceback (most recent call last)",
      "\u001b[1;32m<ipython-input-5-a4b2c8388f16>\u001b[0m in \u001b[0;36m<module>\u001b[1;34m\u001b[0m\n\u001b[0;32m     23\u001b[0m \u001b[1;33m\u001b[0m\u001b[0m\n\u001b[0;32m     24\u001b[0m \u001b[0mplt\u001b[0m\u001b[1;33m.\u001b[0m\u001b[0mswitch_backend\u001b[0m\u001b[1;33m(\u001b[0m\u001b[1;34m'agg'\u001b[0m\u001b[1;33m)\u001b[0m \u001b[1;31m# turn off display when running with Cygwin\u001b[0m\u001b[1;33m\u001b[0m\u001b[1;33m\u001b[0m\u001b[0m\n\u001b[1;32m---> 25\u001b[1;33m \u001b[0mplotTimeSeries\u001b[0m\u001b[1;33m(\u001b[0m\u001b[0mlogQ\u001b[0m\u001b[1;33m,\u001b[0m \u001b[0mhidden_states\u001b[0m\u001b[1;33m,\u001b[0m \u001b[1;34m'log(Flow at State Line)'\u001b[0m\u001b[1;33m,\u001b[0m \u001b[1;34m'StateTseries_Log.png'\u001b[0m\u001b[1;33m)\u001b[0m\u001b[1;33m\u001b[0m\u001b[1;33m\u001b[0m\u001b[0m\n\u001b[0m",
      "\u001b[1;31mNameError\u001b[0m: name 'logQ' is not defined"
     ]
    }
   ],
   "source": [
    "def plotTimeSeries(Q, hidden_states, ylabel, filename):\n",
    " \n",
    "    sns.set()\n",
    "    fig = plt.figure()\n",
    "    ax = fig.add_subplot(111)\n",
    " \n",
    "    xs = np.arange(len(Q))+1909\n",
    "    masks = hidden_states == 0\n",
    "    ax.scatter(xs[masks], Q[masks], c='r', label='Dry State')\n",
    "    masks = hidden_states == 1\n",
    "    ax.scatter(xs[masks], Q[masks], c='b', label='Wet State')\n",
    "    ax.plot(xs, Q, c='k')\n",
    "     \n",
    "    ax.set_xlabel('Year')\n",
    "    ax.set_ylabel(ylabel)\n",
    "    fig.subplots_adjust(bottom=0.2)\n",
    "    handles, labels = plt.gca().get_legend_handles_labels()\n",
    "    fig.legend(handles, labels, loc='lower center', ncol=2, frameon=True)\n",
    "    fig.savefig(filename)\n",
    "    fig.clf()\n",
    " \n",
    "    return None\n",
    " \n",
    "plt.switch_backend('agg') # turn off display when running with Cygwin\n",
    "plotTimeSeries(logQ, hidden_states, 'log(Flow at State Line)', 'StateTseries_Log.png')"
   ]
  },
  {
   "cell_type": "code",
   "execution_count": null,
   "metadata": {},
   "outputs": [],
   "source": [
    "from scipy import stats as ss\n",
    " \n",
    "def plotDistribution(Q, mus, sigmas, P, filename):\n",
    " \n",
    "    # calculate stationary distribution\n",
    "    eigenvals, eigenvecs = np.linalg.eig(np.transpose(P))\n",
    "    one_eigval = np.argmin(np.abs(eigenvals-1))\n",
    "    pi = eigenvecs[:,one_eigval] / np.sum(eigenvecs[:,one_eigval])\n",
    " \n",
    "    x_0 = np.linspace(mus[0]-4*sigmas[0], mus[0]+4*sigmas[0], 10000)\n",
    "    fx_0 = pi[0]*ss.norm.pdf(x_0,mus[0],sigmas[0])\n",
    " \n",
    "    x_1 = np.linspace(mus[1]-4*sigmas[1], mus[1]+4*sigmas[1], 10000)\n",
    "    fx_1 = pi[1]*ss.norm.pdf(x_1,mus[1],sigmas[1])\n",
    " \n",
    "    x = np.linspace(mus[0]-4*sigmas[0], mus[1]+4*sigmas[1], 10000)\n",
    "    fx = pi[0]*ss.norm.pdf(x,mus[0],sigmas[0]) + \\\n",
    "        pi[1]*ss.norm.pdf(x,mus[1],sigmas[1])\n",
    " \n",
    "    sns.set()\n",
    "    fig = plt.figure()\n",
    "    ax = fig.add_subplot(111)\n",
    "    ax.hist(Q, color='k', alpha=0.5, density=True)\n",
    "    l1, = ax.plot(x_0, fx_0, c='r', linewidth=2, label='Dry State Distn')\n",
    "    l2, = ax.plot(x_1, fx_1, c='b', linewidth=2, label='Wet State Distn')\n",
    "    l3, = ax.plot(x, fx, c='k', linewidth=2, label='Combined State Distn')\n",
    " \n",
    "    fig.subplots_adjust(bottom=0.15)\n",
    "    handles, labels = plt.gca().get_legend_handles_labels()\n",
    "    fig.legend(handles, labels, loc='lower center', ncol=3, frameon=True)\n",
    "    fig.savefig(filename)\n",
    "    fig.clf()\n",
    " \n",
    "    return None\n",
    " \n",
    "plotDistribution(logQ, mus, sigmas, P, 'MixedGaussianFit_Log.png')"
   ]
  }
 ],
 "metadata": {
  "kernelspec": {
   "display_name": "tfnlp",
   "language": "python",
   "name": "tfnlp"
  },
  "language_info": {
   "codemirror_mode": {
    "name": "ipython",
    "version": 3
   },
   "file_extension": ".py",
   "mimetype": "text/x-python",
   "name": "python",
   "nbconvert_exporter": "python",
   "pygments_lexer": "ipython3",
   "version": "3.7.9"
  }
 },
 "nbformat": 4,
 "nbformat_minor": 4
}
